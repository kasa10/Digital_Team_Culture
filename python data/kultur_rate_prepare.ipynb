{
  "nbformat": 4,
  "nbformat_minor": 0,
  "metadata": {
    "colab": {
      "name": "kultur_rate_prepare.ipynb",
      "provenance": [],
      "collapsed_sections": []
    },
    "kernelspec": {
      "name": "python3",
      "display_name": "Python 3"
    }
  },
  "cells": [
    {
      "cell_type": "code",
      "metadata": {
        "id": "pN9CXOOYi4Pc"
      },
      "source": [
        "!pip install -U -q PyDrive"
      ],
      "execution_count": null,
      "outputs": []
    },
    {
      "cell_type": "code",
      "metadata": {
        "id": "u_UeKTS18Rmv",
        "outputId": "36356d89-b1b3-4795-efc3-380893bd139c",
        "colab": {
          "base_uri": "https://localhost:8080/"
        }
      },
      "source": [
        "!pip install xlsx2csv"
      ],
      "execution_count": null,
      "outputs": [
        {
          "output_type": "stream",
          "text": [
            "Collecting xlsx2csv\n",
            "\u001b[?25l  Downloading https://files.pythonhosted.org/packages/ac/8c/96123b503a4d986b56278ad87aa70e1c6528d775d15380007bf1abfcf7b8/xlsx2csv-0.7.7.tar.gz (237kB)\n",
            "\r\u001b[K     |█▍                              | 10kB 17.4MB/s eta 0:00:01\r\u001b[K     |██▊                             | 20kB 2.9MB/s eta 0:00:01\r\u001b[K     |████▏                           | 30kB 3.9MB/s eta 0:00:01\r\u001b[K     |█████▌                          | 40kB 4.3MB/s eta 0:00:01\r\u001b[K     |███████                         | 51kB 3.4MB/s eta 0:00:01\r\u001b[K     |████████▎                       | 61kB 3.8MB/s eta 0:00:01\r\u001b[K     |█████████▊                      | 71kB 4.2MB/s eta 0:00:01\r\u001b[K     |███████████                     | 81kB 4.5MB/s eta 0:00:01\r\u001b[K     |████████████▍                   | 92kB 4.8MB/s eta 0:00:01\r\u001b[K     |█████████████▉                  | 102kB 4.6MB/s eta 0:00:01\r\u001b[K     |███████████████▏                | 112kB 4.6MB/s eta 0:00:01\r\u001b[K     |████████████████▋               | 122kB 4.6MB/s eta 0:00:01\r\u001b[K     |██████████████████              | 133kB 4.6MB/s eta 0:00:01\r\u001b[K     |███████████████████▍            | 143kB 4.6MB/s eta 0:00:01\r\u001b[K     |████████████████████▊           | 153kB 4.6MB/s eta 0:00:01\r\u001b[K     |██████████████████████          | 163kB 4.6MB/s eta 0:00:01\r\u001b[K     |███████████████████████▌        | 174kB 4.6MB/s eta 0:00:01\r\u001b[K     |████████████████████████▉       | 184kB 4.6MB/s eta 0:00:01\r\u001b[K     |██████████████████████████▎     | 194kB 4.6MB/s eta 0:00:01\r\u001b[K     |███████████████████████████▋    | 204kB 4.6MB/s eta 0:00:01\r\u001b[K     |█████████████████████████████   | 215kB 4.6MB/s eta 0:00:01\r\u001b[K     |██████████████████████████████▍ | 225kB 4.6MB/s eta 0:00:01\r\u001b[K     |███████████████████████████████▉| 235kB 4.6MB/s eta 0:00:01\r\u001b[K     |████████████████████████████████| 245kB 4.6MB/s \n",
            "\u001b[?25hBuilding wheels for collected packages: xlsx2csv\n",
            "  Building wheel for xlsx2csv (setup.py) ... \u001b[?25l\u001b[?25hdone\n",
            "  Created wheel for xlsx2csv: filename=xlsx2csv-0.7.7-cp36-none-any.whl size=44870 sha256=a0a4ce392eeba3ea7a8d798ef3354d52cdd2dba3d571f5bc03dc74721380cb49\n",
            "  Stored in directory: /root/.cache/pip/wheels/9f/d1/6e/1b6cbf7dcfe72469d95f2cd331a373e8e2fde30a5946d61dfd\n",
            "Successfully built xlsx2csv\n",
            "Installing collected packages: xlsx2csv\n",
            "Successfully installed xlsx2csv-0.7.7\n"
          ],
          "name": "stdout"
        }
      ]
    },
    {
      "cell_type": "code",
      "metadata": {
        "id": "CY1ms60hFRTv",
        "outputId": "4b18c8fa-38be-4c1e-a3a3-a3674aa9fd33",
        "colab": {
          "base_uri": "https://localhost:8080/"
        }
      },
      "source": [
        "from google.colab import drive\n",
        "drive.mount('/gdrive')\n",
        "%cd /gdrive"
      ],
      "execution_count": null,
      "outputs": [
        {
          "output_type": "stream",
          "text": [
            "Mounted at /gdrive\n",
            "/gdrive\n"
          ],
          "name": "stdout"
        }
      ]
    },
    {
      "cell_type": "code",
      "metadata": {
        "id": "VvdKwaeT8lxs"
      },
      "source": [
        "from xlsx2csv import Xlsx2csv"
      ],
      "execution_count": null,
      "outputs": []
    },
    {
      "cell_type": "code",
      "metadata": {
        "id": "wWv0uoKPqaOo"
      },
      "source": [
        "# Рисовать графики сразу же\n",
        "%matplotlib inline\n",
        "\n",
        "import pandas as pd\n",
        "import matplotlib.pyplot as plt\n",
        "\n",
        "plt.style.use('ggplot')  # Красивые графики\n",
        "plt.rcParams['figure.figsize'] = (15, 5)  # Размер картинок"
      ],
      "execution_count": null,
      "outputs": []
    },
    {
      "cell_type": "code",
      "metadata": {
        "id": "TTbpktFBi5sb"
      },
      "source": [
        "import os\n",
        "from pydrive.auth import GoogleAuth\n",
        "from pydrive.drive import GoogleDrive\n",
        "from google.colab import auth\n",
        "from oauth2client.client import GoogleCredentials"
      ],
      "execution_count": null,
      "outputs": []
    },
    {
      "cell_type": "code",
      "metadata": {
        "id": "P14ycPSCjX_t"
      },
      "source": [
        "# 1. Authenticate and create the PyDrive client.\n",
        "auth.authenticate_user()\n",
        "gauth = GoogleAuth()\n",
        "gauth.credentials = GoogleCredentials.get_application_default()\n",
        "drive = GoogleDrive(gauth)"
      ],
      "execution_count": null,
      "outputs": []
    },
    {
      "cell_type": "code",
      "metadata": {
        "id": "-Pfm3cySjYHt"
      },
      "source": [
        "# choose a local (colab) directory to store the data.\n",
        "local_download_path = ''\n",
        "try:\n",
        "    os.makedirs(local_download_path)\n",
        "except: pass"
      ],
      "execution_count": null,
      "outputs": []
    },
    {
      "cell_type": "code",
      "metadata": {
        "id": "ZN7mWfI5jYEC",
        "outputId": "ebb88231-ab5c-4386-acfa-c62c81299ef3",
        "colab": {
          "base_uri": "https://localhost:8080/"
        }
      },
      "source": [
        "# 2. Auto-iterate using the query syntax\n",
        "#    https://developers.google.com/drive/v2/web/search-parameters\n",
        "file_list = drive.ListFile(\n",
        "    {'q': \"'1LtrLBnZI_DU6FksbgSAjZg6B-PQAo3Il' in parents\"}).GetList()  #use your own folder ID here\n",
        "file_list"
      ],
      "execution_count": null,
      "outputs": [
        {
          "output_type": "execute_result",
          "data": {
            "text/plain": [
              "[GoogleDriveFile({'kind': 'drive#file', 'id': '1bloY8KYXKdMvbIvaOzpOTYKJzIJQmzVA', 'etag': '\"MTYwNDA4NDg5NzAwMA\"', 'selfLink': 'https://www.googleapis.com/drive/v2/files/1bloY8KYXKdMvbIvaOzpOTYKJzIJQmzVA', 'webContentLink': 'https://drive.google.com/uc?id=1bloY8KYXKdMvbIvaOzpOTYKJzIJQmzVA&export=download', 'alternateLink': 'https://drive.google.com/file/d/1bloY8KYXKdMvbIvaOzpOTYKJzIJQmzVA/view?usp=drivesdk', 'embedLink': 'https://drive.google.com/file/d/1bloY8KYXKdMvbIvaOzpOTYKJzIJQmzVA/preview?usp=drivesdk', 'iconLink': 'https://drive-thirdparty.googleusercontent.com/16/type/application/vnd.openxmlformats-officedocument.spreadsheetml.sheet', 'thumbnailLink': 'https://lh3.googleusercontent.com/y-YWKAOxIHJaTJJwZ0b07xYJBO3JhaHTQqOSNNY9G-uiu4aw0wMCoIqa_LAgBeMg-8z9wZqwe6eCVkM=s220', 'title': 'Мероприятия.xlsx', 'mimeType': 'application/vnd.openxmlformats-officedocument.spreadsheetml.sheet', 'labels': {'starred': False, 'hidden': False, 'trashed': False, 'restricted': False, 'viewed': True}, 'copyRequiresWriterPermission': False, 'createdDate': '2020-10-30T19:14:31.254Z', 'modifiedDate': '2020-10-30T19:08:17.000Z', 'lastViewedByMeDate': '2020-10-31T15:51:38.296Z', 'markedViewedByMeDate': '1970-01-01T00:00:00.000Z', 'version': '50', 'parents': [{'kind': 'drive#parentReference', 'id': '1LtrLBnZI_DU6FksbgSAjZg6B-PQAo3Il', 'selfLink': 'https://www.googleapis.com/drive/v2/files/1bloY8KYXKdMvbIvaOzpOTYKJzIJQmzVA/parents/1LtrLBnZI_DU6FksbgSAjZg6B-PQAo3Il', 'parentLink': 'https://www.googleapis.com/drive/v2/files/1LtrLBnZI_DU6FksbgSAjZg6B-PQAo3Il', 'isRoot': False}], 'downloadUrl': 'https://www.googleapis.com/drive/v2/files/1bloY8KYXKdMvbIvaOzpOTYKJzIJQmzVA?alt=media&source=downloadUrl', 'userPermission': {'kind': 'drive#permission', 'etag': '\"i_c_ZmlpgsLj6OHSDdC8bmgdGvU\"', 'id': 'me', 'selfLink': 'https://www.googleapis.com/drive/v2/files/1bloY8KYXKdMvbIvaOzpOTYKJzIJQmzVA/permissions/me', 'role': 'reader', 'type': 'user'}, 'originalFilename': 'Мероприятия.xlsx', 'fileExtension': 'xlsx', 'md5Checksum': 'a59f4c4bfeba3837ad2c16a1951f766d', 'fileSize': '8791140', 'quotaBytesUsed': '0', 'ownerNames': ['Алиса Геворкян'], 'owners': [{'kind': 'drive#user', 'displayName': 'Алиса Геворкян', 'isAuthenticatedUser': False, 'permissionId': '06495413050932646013', 'emailAddress': 'avgevorkyan@gmail.com'}], 'lastModifyingUserName': 'Алиса Геворкян', 'lastModifyingUser': {'kind': 'drive#user', 'displayName': 'Алиса Геворкян', 'isAuthenticatedUser': False, 'permissionId': '06495413050932646013', 'emailAddress': 'avgevorkyan@gmail.com'}, 'capabilities': {'canCopy': True, 'canEdit': False}, 'editable': False, 'copyable': True, 'writersCanShare': True, 'shared': True, 'explicitlyTrashed': False, 'appDataContents': False, 'headRevisionId': '0B4tZdWm7oZtfNzNocFY1V2JaSzdDRzN0YVFGODhnZzFZVDF3PQ', 'spaces': ['drive']})]"
            ]
          },
          "metadata": {
            "tags": []
          },
          "execution_count": 12
        }
      ]
    },
    {
      "cell_type": "code",
      "metadata": {
        "id": "0-A_Msezl2c2",
        "outputId": "9e8cef95-a9c3-4b34-da0b-3e11402f3012",
        "colab": {
          "base_uri": "https://localhost:8080/"
        }
      },
      "source": [
        "# 2. Auto-iterate using the query syntax\n",
        "#    https://developers.google.com/drive/v2/web/search-parameters\n",
        "file_list = drive.ListFile(\n",
        "    {'q': \"'1AN_bKT09R9CAd657oq6QX6Kwi17fWzBy' in parents\"}).GetList()  #use your own folder ID here\n",
        "file_list"
      ],
      "execution_count": null,
      "outputs": [
        {
          "output_type": "execute_result",
          "data": {
            "text/plain": [
              "[GoogleDriveFile({'kind': 'drive#file', 'id': '1S7VC63UML5K1TLYkpAjQdkYnosxEWEJc', 'etag': '\"MTYwNDA2NDk4MTAwMA\"', 'selfLink': 'https://www.googleapis.com/drive/v2/files/1S7VC63UML5K1TLYkpAjQdkYnosxEWEJc', 'webContentLink': 'https://drive.google.com/uc?id=1S7VC63UML5K1TLYkpAjQdkYnosxEWEJc&export=download', 'alternateLink': 'https://drive.google.com/file/d/1S7VC63UML5K1TLYkpAjQdkYnosxEWEJc/view?usp=drivesdk', 'embedLink': 'https://drive.google.com/file/d/1S7VC63UML5K1TLYkpAjQdkYnosxEWEJc/preview?usp=drivesdk', 'iconLink': 'https://drive-thirdparty.googleusercontent.com/16/type/application/vnd.openxmlformats-officedocument.spreadsheetml.sheet', 'title': 'Каталог.xlsx', 'mimeType': 'application/vnd.openxmlformats-officedocument.spreadsheetml.sheet', 'labels': {'starred': False, 'hidden': False, 'trashed': False, 'restricted': False, 'viewed': True}, 'copyRequiresWriterPermission': False, 'createdDate': '2020-10-30T14:24:30.654Z', 'modifiedDate': '2020-10-30T13:36:21.000Z', 'lastViewedByMeDate': '2020-10-31T06:16:54.642Z', 'markedViewedByMeDate': '1970-01-01T00:00:00.000Z', 'version': '92', 'parents': [{'kind': 'drive#parentReference', 'id': '1AN_bKT09R9CAd657oq6QX6Kwi17fWzBy', 'selfLink': 'https://www.googleapis.com/drive/v2/files/1S7VC63UML5K1TLYkpAjQdkYnosxEWEJc/parents/1AN_bKT09R9CAd657oq6QX6Kwi17fWzBy', 'parentLink': 'https://www.googleapis.com/drive/v2/files/1AN_bKT09R9CAd657oq6QX6Kwi17fWzBy', 'isRoot': False}], 'downloadUrl': 'https://www.googleapis.com/drive/v2/files/1S7VC63UML5K1TLYkpAjQdkYnosxEWEJc?alt=media&source=downloadUrl', 'userPermission': {'kind': 'drive#permission', 'etag': '\"r22His8eHIu1ntcMzRnGdX94m6U\"', 'id': 'me', 'selfLink': 'https://www.googleapis.com/drive/v2/files/1S7VC63UML5K1TLYkpAjQdkYnosxEWEJc/permissions/me', 'role': 'reader', 'type': 'user'}, 'originalFilename': 'Каталог.xlsx', 'fileExtension': 'xlsx', 'md5Checksum': '8ea63bf8438adbc89d4e1083174b5274', 'fileSize': '102350791', 'quotaBytesUsed': '0', 'ownerNames': ['Алиса Геворкян'], 'owners': [{'kind': 'drive#user', 'displayName': 'Алиса Геворкян', 'isAuthenticatedUser': False, 'permissionId': '06495413050932646013', 'emailAddress': 'avgevorkyan@gmail.com'}], 'lastModifyingUserName': 'Алиса Геворкян', 'lastModifyingUser': {'kind': 'drive#user', 'displayName': 'Алиса Геворкян', 'isAuthenticatedUser': False, 'permissionId': '06495413050932646013', 'emailAddress': 'avgevorkyan@gmail.com'}, 'capabilities': {'canCopy': True, 'canEdit': False}, 'editable': False, 'copyable': True, 'writersCanShare': True, 'shared': True, 'explicitlyTrashed': False, 'appDataContents': False, 'headRevisionId': '0B4tZdWm7oZtfeEhESXdINjE2T0oyQ3dsbjBYc1RNOTRHYXpVPQ', 'spaces': ['drive']}),\n",
              " GoogleDriveFile({'kind': 'drive#file', 'id': '1m5QO_nGsJiDNn4Dd8vFefIg6GiZUB23m', 'etag': '\"MTYwNDA2MDY2MzAwMA\"', 'selfLink': 'https://www.googleapis.com/drive/v2/files/1m5QO_nGsJiDNn4Dd8vFefIg6GiZUB23m', 'webContentLink': 'https://drive.google.com/uc?id=1m5QO_nGsJiDNn4Dd8vFefIg6GiZUB23m&export=download', 'alternateLink': 'https://drive.google.com/file/d/1m5QO_nGsJiDNn4Dd8vFefIg6GiZUB23m/view?usp=drivesdk', 'embedLink': 'https://drive.google.com/file/d/1m5QO_nGsJiDNn4Dd8vFefIg6GiZUB23m/preview?usp=drivesdk', 'iconLink': 'https://drive-thirdparty.googleusercontent.com/16/type/application/vnd.openxmlformats-officedocument.spreadsheetml.sheet', 'title': 'Выдача_2.xlsx', 'mimeType': 'application/vnd.openxmlformats-officedocument.spreadsheetml.sheet', 'labels': {'starred': False, 'hidden': False, 'trashed': False, 'restricted': False, 'viewed': True}, 'copyRequiresWriterPermission': False, 'createdDate': '2020-10-30T14:24:22.237Z', 'modifiedDate': '2020-10-30T12:24:23.000Z', 'lastViewedByMeDate': '2020-10-31T06:16:49.839Z', 'markedViewedByMeDate': '1970-01-01T00:00:00.000Z', 'version': '67', 'parents': [{'kind': 'drive#parentReference', 'id': '1AN_bKT09R9CAd657oq6QX6Kwi17fWzBy', 'selfLink': 'https://www.googleapis.com/drive/v2/files/1m5QO_nGsJiDNn4Dd8vFefIg6GiZUB23m/parents/1AN_bKT09R9CAd657oq6QX6Kwi17fWzBy', 'parentLink': 'https://www.googleapis.com/drive/v2/files/1AN_bKT09R9CAd657oq6QX6Kwi17fWzBy', 'isRoot': False}], 'downloadUrl': 'https://www.googleapis.com/drive/v2/files/1m5QO_nGsJiDNn4Dd8vFefIg6GiZUB23m?alt=media&source=downloadUrl', 'userPermission': {'kind': 'drive#permission', 'etag': '\"_wiR99JcNqs1HrVg2zvUKTlMJiw\"', 'id': 'me', 'selfLink': 'https://www.googleapis.com/drive/v2/files/1m5QO_nGsJiDNn4Dd8vFefIg6GiZUB23m/permissions/me', 'role': 'reader', 'type': 'user'}, 'originalFilename': 'Выдача_2.xlsx', 'fileExtension': 'xlsx', 'md5Checksum': '75b3b90868c15bea874d85c33a06bb17', 'fileSize': '259863828', 'quotaBytesUsed': '0', 'ownerNames': ['Алиса Геворкян'], 'owners': [{'kind': 'drive#user', 'displayName': 'Алиса Геворкян', 'isAuthenticatedUser': False, 'permissionId': '06495413050932646013', 'emailAddress': 'avgevorkyan@gmail.com'}], 'lastModifyingUserName': 'Алиса Геворкян', 'lastModifyingUser': {'kind': 'drive#user', 'displayName': 'Алиса Геворкян', 'isAuthenticatedUser': False, 'permissionId': '06495413050932646013', 'emailAddress': 'avgevorkyan@gmail.com'}, 'capabilities': {'canCopy': True, 'canEdit': False}, 'editable': False, 'copyable': True, 'writersCanShare': True, 'shared': True, 'explicitlyTrashed': False, 'appDataContents': False, 'headRevisionId': '0B4tZdWm7oZtfTW0vUWRpNkViMWdzbHBrRjNyMnVXU1lwL1RZPQ', 'spaces': ['drive']}),\n",
              " GoogleDriveFile({'kind': 'drive#file', 'id': '1kX6NAsr50aXSnuYyO9eCd5YiaPwTQmJC', 'etag': '\"MTYwNDA1NjcxMTAwMA\"', 'selfLink': 'https://www.googleapis.com/drive/v2/files/1kX6NAsr50aXSnuYyO9eCd5YiaPwTQmJC', 'webContentLink': 'https://drive.google.com/uc?id=1kX6NAsr50aXSnuYyO9eCd5YiaPwTQmJC&export=download', 'alternateLink': 'https://drive.google.com/file/d/1kX6NAsr50aXSnuYyO9eCd5YiaPwTQmJC/view?usp=drivesdk', 'embedLink': 'https://drive.google.com/file/d/1kX6NAsr50aXSnuYyO9eCd5YiaPwTQmJC/preview?usp=drivesdk', 'iconLink': 'https://drive-thirdparty.googleusercontent.com/16/type/application/vnd.openxmlformats-officedocument.spreadsheetml.sheet', 'title': 'Выдача_1.xlsx', 'mimeType': 'application/vnd.openxmlformats-officedocument.spreadsheetml.sheet', 'labels': {'starred': False, 'hidden': False, 'trashed': False, 'restricted': False, 'viewed': False}, 'copyRequiresWriterPermission': False, 'createdDate': '2020-10-30T14:23:34.285Z', 'modifiedDate': '2020-10-30T11:18:31.000Z', 'markedViewedByMeDate': '1970-01-01T00:00:00.000Z', 'version': '123', 'parents': [{'kind': 'drive#parentReference', 'id': '1AN_bKT09R9CAd657oq6QX6Kwi17fWzBy', 'selfLink': 'https://www.googleapis.com/drive/v2/files/1kX6NAsr50aXSnuYyO9eCd5YiaPwTQmJC/parents/1AN_bKT09R9CAd657oq6QX6Kwi17fWzBy', 'parentLink': 'https://www.googleapis.com/drive/v2/files/1AN_bKT09R9CAd657oq6QX6Kwi17fWzBy', 'isRoot': False}], 'downloadUrl': 'https://www.googleapis.com/drive/v2/files/1kX6NAsr50aXSnuYyO9eCd5YiaPwTQmJC?alt=media&source=downloadUrl', 'userPermission': {'kind': 'drive#permission', 'etag': '\"xpS-cOKTAAV733vI0pWhZk1yV_s\"', 'id': 'me', 'selfLink': 'https://www.googleapis.com/drive/v2/files/1kX6NAsr50aXSnuYyO9eCd5YiaPwTQmJC/permissions/me', 'role': 'reader', 'type': 'user'}, 'originalFilename': 'Выдача_1.xlsx', 'fileExtension': 'xlsx', 'md5Checksum': '1bcf0d89af26e6b37094e0968add6f2a', 'fileSize': '275992971', 'quotaBytesUsed': '0', 'ownerNames': ['Алиса Геворкян'], 'owners': [{'kind': 'drive#user', 'displayName': 'Алиса Геворкян', 'isAuthenticatedUser': False, 'permissionId': '06495413050932646013', 'emailAddress': 'avgevorkyan@gmail.com'}], 'lastModifyingUserName': 'Алиса Геворкян', 'lastModifyingUser': {'kind': 'drive#user', 'displayName': 'Алиса Геворкян', 'isAuthenticatedUser': False, 'permissionId': '06495413050932646013', 'emailAddress': 'avgevorkyan@gmail.com'}, 'capabilities': {'canCopy': True, 'canEdit': False}, 'editable': False, 'copyable': True, 'writersCanShare': True, 'shared': True, 'explicitlyTrashed': False, 'appDataContents': False, 'headRevisionId': '0B4tZdWm7oZtfOXc1QkNyUEJRd3VBb1k4MjhEb1NxaHV1K0s0PQ', 'spaces': ['drive']}),\n",
              " GoogleDriveFile({'kind': 'drive#file', 'id': '16oOkTgnlYYPFKkKrfivsm8XTeVbaY0ba', 'etag': '\"MTYwNDA1MTM3MzAwMA\"', 'selfLink': 'https://www.googleapis.com/drive/v2/files/16oOkTgnlYYPFKkKrfivsm8XTeVbaY0ba', 'webContentLink': 'https://drive.google.com/uc?id=16oOkTgnlYYPFKkKrfivsm8XTeVbaY0ba&export=download', 'alternateLink': 'https://drive.google.com/file/d/16oOkTgnlYYPFKkKrfivsm8XTeVbaY0ba/view?usp=drivesdk', 'embedLink': 'https://drive.google.com/file/d/16oOkTgnlYYPFKkKrfivsm8XTeVbaY0ba/preview?usp=drivesdk', 'iconLink': 'https://drive-thirdparty.googleusercontent.com/16/type/application/vnd.openxmlformats-officedocument.spreadsheetml.sheet', 'thumbnailLink': 'https://lh3.googleusercontent.com/svcB-QeyEhAupZpvRPjuZ0_Okl5wqnMQBdmEBqL4QISLBjS5JoCckSd0xE5K6a3bur63AJjJ1zNX-gs=s220', 'title': 'Читатели.xlsx', 'mimeType': 'application/vnd.openxmlformats-officedocument.spreadsheetml.sheet', 'labels': {'starred': False, 'hidden': False, 'trashed': False, 'restricted': False, 'viewed': True}, 'copyRequiresWriterPermission': False, 'createdDate': '2020-10-30T14:24:02.271Z', 'modifiedDate': '2020-10-30T09:49:33.000Z', 'lastViewedByMeDate': '2020-10-31T06:17:17.317Z', 'markedViewedByMeDate': '1970-01-01T00:00:00.000Z', 'version': '88', 'parents': [{'kind': 'drive#parentReference', 'id': '1AN_bKT09R9CAd657oq6QX6Kwi17fWzBy', 'selfLink': 'https://www.googleapis.com/drive/v2/files/16oOkTgnlYYPFKkKrfivsm8XTeVbaY0ba/parents/1AN_bKT09R9CAd657oq6QX6Kwi17fWzBy', 'parentLink': 'https://www.googleapis.com/drive/v2/files/1AN_bKT09R9CAd657oq6QX6Kwi17fWzBy', 'isRoot': False}], 'downloadUrl': 'https://www.googleapis.com/drive/v2/files/16oOkTgnlYYPFKkKrfivsm8XTeVbaY0ba?alt=media&source=downloadUrl', 'userPermission': {'kind': 'drive#permission', 'etag': '\"MVkMc-sYM6LMEzSQ_R4k66Ghu08\"', 'id': 'me', 'selfLink': 'https://www.googleapis.com/drive/v2/files/16oOkTgnlYYPFKkKrfivsm8XTeVbaY0ba/permissions/me', 'role': 'reader', 'type': 'user'}, 'originalFilename': 'Читатели.xlsx', 'fileExtension': 'xlsx', 'md5Checksum': 'e8123b712f682c34d204b7f93ea5ad52', 'fileSize': '12191497', 'quotaBytesUsed': '0', 'ownerNames': ['Алиса Геворкян'], 'owners': [{'kind': 'drive#user', 'displayName': 'Алиса Геворкян', 'isAuthenticatedUser': False, 'permissionId': '06495413050932646013', 'emailAddress': 'avgevorkyan@gmail.com'}], 'lastModifyingUserName': 'Алиса Геворкян', 'lastModifyingUser': {'kind': 'drive#user', 'displayName': 'Алиса Геворкян', 'isAuthenticatedUser': False, 'permissionId': '06495413050932646013', 'emailAddress': 'avgevorkyan@gmail.com'}, 'capabilities': {'canCopy': True, 'canEdit': False}, 'editable': False, 'copyable': True, 'writersCanShare': True, 'shared': True, 'explicitlyTrashed': False, 'appDataContents': False, 'headRevisionId': '0B4tZdWm7oZtfOU52bkZ5dnJ6S1pGUm1mRkZxTXl2YXFvR2RJPQ', 'spaces': ['drive']}),\n",
              " GoogleDriveFile({'kind': 'drive#file', 'id': '1bHJ-q2tLK2hB0Hz4wSF8miqy1-daZEKe', 'etag': '\"MTYwNDA1MDQyNTAwMA\"', 'selfLink': 'https://www.googleapis.com/drive/v2/files/1bHJ-q2tLK2hB0Hz4wSF8miqy1-daZEKe', 'webContentLink': 'https://drive.google.com/uc?id=1bHJ-q2tLK2hB0Hz4wSF8miqy1-daZEKe&export=download', 'alternateLink': 'https://drive.google.com/file/d/1bHJ-q2tLK2hB0Hz4wSF8miqy1-daZEKe/view?usp=drivesdk', 'embedLink': 'https://drive.google.com/file/d/1bHJ-q2tLK2hB0Hz4wSF8miqy1-daZEKe/preview?usp=drivesdk', 'iconLink': 'https://drive-thirdparty.googleusercontent.com/16/type/application/vnd.openxmlformats-officedocument.spreadsheetml.sheet', 'title': 'Экземпляры_2.xlsx', 'mimeType': 'application/vnd.openxmlformats-officedocument.spreadsheetml.sheet', 'labels': {'starred': False, 'hidden': False, 'trashed': False, 'restricted': False, 'viewed': False}, 'copyRequiresWriterPermission': False, 'createdDate': '2020-10-30T14:24:56.128Z', 'modifiedDate': '2020-10-30T09:33:45.000Z', 'markedViewedByMeDate': '1970-01-01T00:00:00.000Z', 'version': '46', 'parents': [{'kind': 'drive#parentReference', 'id': '1AN_bKT09R9CAd657oq6QX6Kwi17fWzBy', 'selfLink': 'https://www.googleapis.com/drive/v2/files/1bHJ-q2tLK2hB0Hz4wSF8miqy1-daZEKe/parents/1AN_bKT09R9CAd657oq6QX6Kwi17fWzBy', 'parentLink': 'https://www.googleapis.com/drive/v2/files/1AN_bKT09R9CAd657oq6QX6Kwi17fWzBy', 'isRoot': False}], 'downloadUrl': 'https://www.googleapis.com/drive/v2/files/1bHJ-q2tLK2hB0Hz4wSF8miqy1-daZEKe?alt=media&source=downloadUrl', 'userPermission': {'kind': 'drive#permission', 'etag': '\"jvdY-eijoJfdgaEpuXHhVdhrCQQ\"', 'id': 'me', 'selfLink': 'https://www.googleapis.com/drive/v2/files/1bHJ-q2tLK2hB0Hz4wSF8miqy1-daZEKe/permissions/me', 'role': 'reader', 'type': 'user'}, 'originalFilename': 'Экземпляры_2.xlsx', 'fileExtension': 'xlsx', 'md5Checksum': 'ea32da6d723438e2e61c60e8dc5b0709', 'fileSize': '356711367', 'quotaBytesUsed': '0', 'ownerNames': ['Алиса Геворкян'], 'owners': [{'kind': 'drive#user', 'displayName': 'Алиса Геворкян', 'isAuthenticatedUser': False, 'permissionId': '06495413050932646013', 'emailAddress': 'avgevorkyan@gmail.com'}], 'lastModifyingUserName': 'Алиса Геворкян', 'lastModifyingUser': {'kind': 'drive#user', 'displayName': 'Алиса Геворкян', 'isAuthenticatedUser': False, 'permissionId': '06495413050932646013', 'emailAddress': 'avgevorkyan@gmail.com'}, 'capabilities': {'canCopy': True, 'canEdit': False}, 'editable': False, 'copyable': True, 'writersCanShare': True, 'shared': True, 'explicitlyTrashed': False, 'appDataContents': False, 'headRevisionId': '0B4tZdWm7oZtfdmtQU0VxbGs5d2ZZQXF4dm52c0laQ21uMzRjPQ', 'spaces': ['drive']}),\n",
              " GoogleDriveFile({'kind': 'drive#file', 'id': '1E80vehSzvmV3vmunOc2CY9twMa4FcTcb', 'etag': '\"MTYwNDA0NzI1MjAwMA\"', 'selfLink': 'https://www.googleapis.com/drive/v2/files/1E80vehSzvmV3vmunOc2CY9twMa4FcTcb', 'webContentLink': 'https://drive.google.com/uc?id=1E80vehSzvmV3vmunOc2CY9twMa4FcTcb&export=download', 'alternateLink': 'https://drive.google.com/file/d/1E80vehSzvmV3vmunOc2CY9twMa4FcTcb/view?usp=drivesdk', 'embedLink': 'https://drive.google.com/file/d/1E80vehSzvmV3vmunOc2CY9twMa4FcTcb/preview?usp=drivesdk', 'iconLink': 'https://drive-thirdparty.googleusercontent.com/16/type/application/vnd.openxmlformats-officedocument.spreadsheetml.sheet', 'title': 'Экземпляры.xlsx', 'mimeType': 'application/vnd.openxmlformats-officedocument.spreadsheetml.sheet', 'labels': {'starred': False, 'hidden': False, 'trashed': False, 'restricted': False, 'viewed': False}, 'copyRequiresWriterPermission': False, 'createdDate': '2020-10-30T14:23:59.620Z', 'modifiedDate': '2020-10-30T08:40:52.000Z', 'markedViewedByMeDate': '1970-01-01T00:00:00.000Z', 'version': '75', 'parents': [{'kind': 'drive#parentReference', 'id': '1AN_bKT09R9CAd657oq6QX6Kwi17fWzBy', 'selfLink': 'https://www.googleapis.com/drive/v2/files/1E80vehSzvmV3vmunOc2CY9twMa4FcTcb/parents/1AN_bKT09R9CAd657oq6QX6Kwi17fWzBy', 'parentLink': 'https://www.googleapis.com/drive/v2/files/1AN_bKT09R9CAd657oq6QX6Kwi17fWzBy', 'isRoot': False}], 'downloadUrl': 'https://www.googleapis.com/drive/v2/files/1E80vehSzvmV3vmunOc2CY9twMa4FcTcb?alt=media&source=downloadUrl', 'userPermission': {'kind': 'drive#permission', 'etag': '\"MrrZ4S_9BwgaSAUQ-GIzRpQUEXc\"', 'id': 'me', 'selfLink': 'https://www.googleapis.com/drive/v2/files/1E80vehSzvmV3vmunOc2CY9twMa4FcTcb/permissions/me', 'role': 'reader', 'type': 'user'}, 'originalFilename': 'Экземпляры.xlsx', 'fileExtension': 'xlsx', 'md5Checksum': '8fce277c6942870251bb764e69b920a1', 'fileSize': '322349567', 'quotaBytesUsed': '0', 'ownerNames': ['Алиса Геворкян'], 'owners': [{'kind': 'drive#user', 'displayName': 'Алиса Геворкян', 'isAuthenticatedUser': False, 'permissionId': '06495413050932646013', 'emailAddress': 'avgevorkyan@gmail.com'}], 'lastModifyingUserName': 'Алиса Геворкян', 'lastModifyingUser': {'kind': 'drive#user', 'displayName': 'Алиса Геворкян', 'isAuthenticatedUser': False, 'permissionId': '06495413050932646013', 'emailAddress': 'avgevorkyan@gmail.com'}, 'capabilities': {'canCopy': True, 'canEdit': False}, 'editable': False, 'copyable': True, 'writersCanShare': True, 'shared': True, 'explicitlyTrashed': False, 'appDataContents': False, 'headRevisionId': '0B4tZdWm7oZtfWnlOSDNjK2dGK1RlYmxhZTEyd1NTN1pWZ0hvPQ', 'spaces': ['drive']})]"
            ]
          },
          "metadata": {
            "tags": []
          },
          "execution_count": 14
        }
      ]
    },
    {
      "cell_type": "code",
      "metadata": {
        "id": "dJAqlPKgl2oG",
        "outputId": "617c93f2-30b5-41fa-ea86-551b13be360d",
        "colab": {
          "base_uri": "https://localhost:8080/"
        }
      },
      "source": [
        "# 2. Auto-iterate using the query syntax\n",
        "#    https://developers.google.com/drive/v2/web/search-parameters\n",
        "file_list = drive.ListFile(\n",
        "    {'q': \"'1CftXPPccenqaLmxgdJgyb7cfgnOM3UqC' in parents\"}).GetList()  #use your own folder ID here\n",
        "file_list"
      ],
      "execution_count": null,
      "outputs": [
        {
          "output_type": "execute_result",
          "data": {
            "text/plain": [
              "[GoogleDriveFile({'kind': 'drive#file', 'id': '1BArecRtKvQobl-V7hT6blazC6ISTwgt_', 'etag': '\"MTYwNDA4MDQ3OTAwMA\"', 'selfLink': 'https://www.googleapis.com/drive/v2/files/1BArecRtKvQobl-V7hT6blazC6ISTwgt_', 'webContentLink': 'https://drive.google.com/uc?id=1BArecRtKvQobl-V7hT6blazC6ISTwgt_&export=download', 'alternateLink': 'https://drive.google.com/file/d/1BArecRtKvQobl-V7hT6blazC6ISTwgt_/view?usp=drivesdk', 'embedLink': 'https://drive.google.com/file/d/1BArecRtKvQobl-V7hT6blazC6ISTwgt_/preview?usp=drivesdk', 'iconLink': 'https://drive-thirdparty.googleusercontent.com/16/type/application/zip', 'title': 'dataset.zip', 'mimeType': 'application/zip', 'labels': {'starred': False, 'hidden': False, 'trashed': False, 'restricted': False, 'viewed': True}, 'copyRequiresWriterPermission': False, 'createdDate': '2020-10-30T17:56:15.279Z', 'modifiedDate': '2020-10-30T17:54:39.000Z', 'lastViewedByMeDate': '2020-10-31T13:26:13.307Z', 'markedViewedByMeDate': '1970-01-01T00:00:00.000Z', 'version': '45', 'parents': [{'kind': 'drive#parentReference', 'id': '1CftXPPccenqaLmxgdJgyb7cfgnOM3UqC', 'selfLink': 'https://www.googleapis.com/drive/v2/files/1BArecRtKvQobl-V7hT6blazC6ISTwgt_/parents/1CftXPPccenqaLmxgdJgyb7cfgnOM3UqC', 'parentLink': 'https://www.googleapis.com/drive/v2/files/1CftXPPccenqaLmxgdJgyb7cfgnOM3UqC', 'isRoot': False}], 'downloadUrl': 'https://www.googleapis.com/drive/v2/files/1BArecRtKvQobl-V7hT6blazC6ISTwgt_?alt=media&source=downloadUrl', 'userPermission': {'kind': 'drive#permission', 'etag': '\"gNVpxLY-d0Ye2l7gSWLlSTHx1IQ\"', 'id': 'me', 'selfLink': 'https://www.googleapis.com/drive/v2/files/1BArecRtKvQobl-V7hT6blazC6ISTwgt_/permissions/me', 'role': 'reader', 'type': 'user'}, 'originalFilename': 'dataset.zip', 'fileExtension': 'zip', 'md5Checksum': '42e78679ece970fb5b3e2ab635da9767', 'fileSize': '33872948', 'quotaBytesUsed': '0', 'ownerNames': ['Алиса Геворкян'], 'owners': [{'kind': 'drive#user', 'displayName': 'Алиса Геворкян', 'isAuthenticatedUser': False, 'permissionId': '06495413050932646013', 'emailAddress': 'avgevorkyan@gmail.com'}], 'lastModifyingUserName': 'Алиса Геворкян', 'lastModifyingUser': {'kind': 'drive#user', 'displayName': 'Алиса Геворкян', 'isAuthenticatedUser': False, 'permissionId': '06495413050932646013', 'emailAddress': 'avgevorkyan@gmail.com'}, 'capabilities': {'canCopy': True, 'canEdit': False}, 'editable': False, 'copyable': True, 'writersCanShare': True, 'shared': True, 'explicitlyTrashed': False, 'appDataContents': False, 'headRevisionId': '0B4tZdWm7oZtfbUl1c3ZqaENpQnp5SFdVRC9XUFRJMXQxTkZVPQ', 'spaces': ['drive']})]"
            ]
          },
          "metadata": {
            "tags": []
          },
          "execution_count": 16
        }
      ]
    },
    {
      "cell_type": "code",
      "metadata": {
        "id": "YPdIni1ZiRi_",
        "outputId": "a77d4ebb-ad77-4adf-8078-0836253602e8",
        "colab": {
          "base_uri": "https://localhost:8080/"
        }
      },
      "source": [
        "for f in file_list:\n",
        "    # 3. Create & download by id.\n",
        "    print('title: %s, id: %s' % (f['title'], f['id']))\n",
        "    fname = f['title']\n",
        "    print('downloading to {}'.format(fname))\n",
        "    f_ = drive.CreateFile({'id': f['id']})\n",
        "    f_.GetContentFile(fname)"
      ],
      "execution_count": null,
      "outputs": [
        {
          "output_type": "stream",
          "text": [
            "title: dataset.zip, id: 1BArecRtKvQobl-V7hT6blazC6ISTwgt_\n",
            "downloading to dataset.zip\n"
          ],
          "name": "stdout"
        }
      ]
    },
    {
      "cell_type": "code",
      "metadata": {
        "id": "XDkhs8qmi4bJ",
        "outputId": "3f5973c5-ddca-44e6-b3dd-a6529267a4a3",
        "colab": {
          "base_uri": "https://localhost:8080/"
        }
      },
      "source": [
        "!unzip dataset.zip"
      ],
      "execution_count": null,
      "outputs": [
        {
          "output_type": "stream",
          "text": [
            "Archive:  dataset.zip\n",
            "  inflating: pupil.sql               \n",
            "  inflating: mr.sql                  \n",
            "  inflating: org_hackaton.csv        \n",
            "  inflating: request.sql             \n",
            "  inflating: Classificator_hachaton.csv  \n",
            "  inflating: ucs.sql                 \n",
            "  inflating: org.sql                 \n",
            "  inflating: services_hackaton.csv   \n",
            "  inflating: request_hackaton.csv    \n",
            "  inflating: Pupil_hackaton.csv      \n",
            "  inflating: MegaRelation_hackaton.csv  \n"
          ],
          "name": "stdout"
        }
      ]
    },
    {
      "cell_type": "code",
      "metadata": {
        "id": "_l5uxkKunChW"
      },
      "source": [
        "!rm -rf dataset.zip"
      ],
      "execution_count": null,
      "outputs": []
    },
    {
      "cell_type": "code",
      "metadata": {
        "id": "mcWcvsvzBIa0"
      },
      "source": [
        "!rm -rf kulturdata/.ipynb_checkpoints/"
      ],
      "execution_count": null,
      "outputs": []
    },
    {
      "cell_type": "code",
      "metadata": {
        "id": "VhuRLUyJnxb8",
        "outputId": "ed565ccd-b680-4697-c7cf-9340894b985a",
        "colab": {
          "base_uri": "https://localhost:8080/"
        }
      },
      "source": [
        "!mv * kulturdata"
      ],
      "execution_count": null,
      "outputs": [
        {
          "output_type": "stream",
          "text": [
            "mv: cannot move 'kulturdata' to a subdirectory of itself, 'kulturdata/kulturdata'\n"
          ],
          "name": "stdout"
        }
      ]
    },
    {
      "cell_type": "code",
      "metadata": {
        "id": "OWTpq-InFO-2"
      },
      "source": [
        ""
      ],
      "execution_count": null,
      "outputs": []
    },
    {
      "cell_type": "code",
      "metadata": {
        "id": "Pnl2BmXTFiZA"
      },
      "source": [
        "!cp /content/kulturdata.zip '/gdrive/My Drive/Cloud'"
      ],
      "execution_count": null,
      "outputs": []
    },
    {
      "cell_type": "code",
      "metadata": {
        "id": "NHxRe8-8vXWT"
      },
      "source": [
        "n=10"
      ],
      "execution_count": null,
      "outputs": []
    },
    {
      "cell_type": "code",
      "metadata": {
        "id": "raXPmHIF8cl-"
      },
      "source": [
        "Xlsx2csv(\"kulturdata/meropr.xlsx\", outputencoding=\"utf-8\").convert(\"kulturdata/meropr.csv\")"
      ],
      "execution_count": null,
      "outputs": []
    },
    {
      "cell_type": "code",
      "metadata": {
        "id": "HsAzbcTS9DyQ"
      },
      "source": [
        "Xlsx2csv(\"kulturdata/eksemplar2.xlsx\", outputencoding=\"utf-8\").convert(\"kulturdata/eksemplar2.csv\")"
      ],
      "execution_count": null,
      "outputs": []
    },
    {
      "cell_type": "code",
      "metadata": {
        "id": "BCm55N0V9ECH"
      },
      "source": [
        "Xlsx2csv(\"kulturdata/vyd2.xlsx\", outputencoding=\"utf-8\").convert(\"kulturdata/vyd2.csv\")"
      ],
      "execution_count": null,
      "outputs": []
    },
    {
      "cell_type": "code",
      "metadata": {
        "id": "bRL5Sc269EMi"
      },
      "source": [
        "Xlsx2csv(\"kulturdata/chytatel.xlsx\", outputencoding=\"utf-8\").convert(\"kulturdata/chytatel.csv\")"
      ],
      "execution_count": null,
      "outputs": []
    },
    {
      "cell_type": "code",
      "metadata": {
        "id": "eyTwuvha9Ee8"
      },
      "source": [
        "Xlsx2csv(\"kulturdata/vyd1.xlsx\", outputencoding=\"utf-8\").convert(\"kulturdata/vyd1.csv\")"
      ],
      "execution_count": null,
      "outputs": []
    },
    {
      "cell_type": "code",
      "metadata": {
        "id": "fSB1bYnp9Et2"
      },
      "source": [
        "Xlsx2csv(\"kulturdata/katal.xlsx\", outputencoding=\"utf-8\").convert(\"kulturdata/katal.csv\")"
      ],
      "execution_count": null,
      "outputs": []
    },
    {
      "cell_type": "code",
      "metadata": {
        "id": "V43DVHGEvAz9",
        "outputId": "5324c6a9-64c1-4c0a-c9e2-2c5991e92629",
        "colab": {
          "base_uri": "https://localhost:8080/"
        }
      },
      "source": [
        "!ls -l kulturdata/"
      ],
      "execution_count": null,
      "outputs": [
        {
          "output_type": "stream",
          "text": [
            "total 781204\n",
            "-rw-r--r-- 1 root root   8914534 Oct 31 18:44 chytatel.csv\n",
            "-rw-r--r-- 1 root root     34558 Oct 23 13:01 Classificator_hachaton.csv\n",
            "-rw-r--r-- 1 root root  54986640 Oct 31 18:36 eksemplar1.csv\n",
            "-rw-r--r-- 1 root root  56638240 Oct 31 18:42 eksemplar2.csv\n",
            "-rw-r--r-- 1 root root 218904136 Oct 31 18:47 katal.csv\n",
            "-rw-r--r-- 1 root root 106193722 Oct 23 12:55 MegaRelation_hackaton.csv\n",
            "-rw-r--r-- 1 root root  40647959 Oct 31 18:40 meropr.csv\n",
            "-rw-r--r-- 1 root root    156450 Oct 23 13:00 org_hackaton.csv\n",
            "-rw-r--r-- 1 root root  77897051 Oct 23 12:49 Pupil_hackaton.csv\n",
            "-rw-r--r-- 1 root root  48056134 Oct 23 13:00 request_hackaton.csv\n",
            "-rw-r--r-- 1 root root   5992574 Oct 23 12:59 services_hackaton.csv\n",
            "-rw-r--r-- 1 root root  89677253 Oct 31 18:46 vyd1.csv\n",
            "-rw-r--r-- 1 root root  91825070 Oct 31 18:44 vyd2.csv\n"
          ],
          "name": "stdout"
        }
      ]
    },
    {
      "cell_type": "code",
      "metadata": {
        "id": "zJyPfCIfovO1",
        "outputId": "9928be94-a9d0-4312-b379-823ceaaaa069",
        "colab": {
          "base_uri": "https://localhost:8080/"
        }
      },
      "source": [
        "!zip -r kulturdata.zip kulturdata"
      ],
      "execution_count": null,
      "outputs": [
        {
          "output_type": "stream",
          "text": [
            "  adding: kulturdata/ (stored 0%)\n",
            "  adding: kulturdata/Classificator_hachaton.csv (deflated 77%)\n",
            "  adding: kulturdata/Pupil_hackaton.csv (deflated 87%)\n",
            "  adding: kulturdata/meropr.csv (deflated 84%)\n",
            "  adding: kulturdata/vyd1.csv (deflated 83%)\n",
            "  adding: kulturdata/MegaRelation_hackaton.csv (deflated 84%)\n",
            "  adding: kulturdata/services_hackaton.csv (deflated 86%)\n",
            "  adding: kulturdata/eksemplar1.csv (deflated 69%)\n",
            "  adding: kulturdata/org_hackaton.csv (deflated 91%)\n",
            "  adding: kulturdata/katal.csv (deflated 79%)\n",
            "  adding: kulturdata/request_hackaton.csv (deflated 88%)\n",
            "  adding: kulturdata/chytatel.csv (deflated 62%)\n",
            "  adding: kulturdata/eksemplar2.csv (deflated 69%)\n",
            "  adding: kulturdata/vyd2.csv (deflated 84%)\n"
          ],
          "name": "stdout"
        }
      ]
    },
    {
      "cell_type": "code",
      "metadata": {
        "id": "J8m_t-OgvAuR"
      },
      "source": [
        ""
      ],
      "execution_count": null,
      "outputs": []
    },
    {
      "cell_type": "code",
      "metadata": {
        "id": "0P7ptc48vArZ"
      },
      "source": [
        ""
      ],
      "execution_count": null,
      "outputs": []
    },
    {
      "cell_type": "code",
      "metadata": {
        "id": "dJco94X8vApe"
      },
      "source": [
        ""
      ],
      "execution_count": null,
      "outputs": []
    },
    {
      "cell_type": "code",
      "metadata": {
        "id": "C6IfzDEBvAlD"
      },
      "source": [
        ""
      ],
      "execution_count": null,
      "outputs": []
    },
    {
      "cell_type": "code",
      "metadata": {
        "id": "CqJrcsTevAau"
      },
      "source": [
        ""
      ],
      "execution_count": null,
      "outputs": []
    },
    {
      "cell_type": "code",
      "metadata": {
        "id": "VBl5jpyQvAWm"
      },
      "source": [
        ""
      ],
      "execution_count": null,
      "outputs": []
    },
    {
      "cell_type": "code",
      "metadata": {
        "id": "mHqtvXRKvAUC"
      },
      "source": [
        ""
      ],
      "execution_count": null,
      "outputs": []
    },
    {
      "cell_type": "code",
      "metadata": {
        "id": "71f3fNy8vAQy"
      },
      "source": [
        ""
      ],
      "execution_count": null,
      "outputs": []
    },
    {
      "cell_type": "code",
      "metadata": {
        "id": "kYuAO6_gvAJp"
      },
      "source": [
        ""
      ],
      "execution_count": null,
      "outputs": []
    },
    {
      "cell_type": "code",
      "metadata": {
        "id": "60K6ONuQvAHd"
      },
      "source": [
        ""
      ],
      "execution_count": null,
      "outputs": []
    },
    {
      "cell_type": "code",
      "metadata": {
        "id": "-1X7VF8ovAEo"
      },
      "source": [
        ""
      ],
      "execution_count": null,
      "outputs": []
    },
    {
      "cell_type": "code",
      "metadata": {
        "id": "jcFsLIq-u__b"
      },
      "source": [
        ""
      ],
      "execution_count": null,
      "outputs": []
    },
    {
      "cell_type": "code",
      "metadata": {
        "id": "Bu-7bXF-u_7R"
      },
      "source": [
        ""
      ],
      "execution_count": null,
      "outputs": []
    }
  ]
}